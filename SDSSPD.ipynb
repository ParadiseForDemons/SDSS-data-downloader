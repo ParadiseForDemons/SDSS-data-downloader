{
  "cells": [
    {
      "cell_type": "code",
      "execution_count": null,
      "metadata": {
        "colab": {
          "base_uri": "https://localhost:8080/"
        },
        "id": "-h-TJK0ifQQO",
        "outputId": "216ab356-3498-496c-9421-2bfd49a5aae7"
      },
      "outputs": [],
      "source": [
        "!pip install astroquery\n",
        "!pip install astroquery pillow tqdm --quiet\n",
        "!pip install ipywidgets astroquery pillow tqdm --quiet\n"
      ]
    },
    {
      "cell_type": "code",
      "execution_count": null,
      "metadata": {
        "colab": {
          "base_uri": "https://localhost:8080/"
        },
        "id": "m_plMogqsQmB",
        "outputId": "d8c11031-fae0-4e89-8bac-e2d54c155b32"
      },
      "outputs": [],
      "source": [
        "#!/usr/bin/env python3\n",
        "# ===============================================\n",
        "#  Standalone SDSS Downloader (No CSV Required)\n",
        "#  Author: Pardis • Advisor: Prof. Safari\n",
        "# ===============================================\n",
        "\"\"\"\n",
        "A completely independent script to download images from SDSS.\n",
        "It randomly selects sky coordinates, fetches images, and saves\n",
        "them as PNG, FITS, or both — user-configurable via prompts.\n",
        "\"\"\"\n",
        "\n",
        "import os, gc\n",
        "import numpy as np\n",
        "from tqdm import tqdm\n",
        "from PIL import Image\n",
        "\n",
        "from astroquery.sdss import SDSS\n",
        "from astropy import units as u\n",
        "from astropy.coordinates import SkyCoord\n",
        "\n",
        "\n",
        "# ========== PROMPTS ==========\n",
        "print(\"🌀 Welcome to the SDSS Image Downloader\")\n",
        "n = int(input(\"🔢 How many images do you want to download? (e.g. 20): \"))\n",
        "fmt = int(input(\"📦 Save format → 1=PNG | 2=FITS | 3=Both: \"))\n",
        "dest = int(input(\"📂 Storage → 1=Colab /content | 2=Google Drive | 3=Custom local: \"))\n",
        "folder = input(\"📁 Folder name or full path (e.g. sdss_images): \").strip()\n",
        "size = int(input(\"📐 Image size in pixels (e.g. 200): \"))\n",
        "band = input(\"🔬 SDSS Band (g/r/i/z) [default: r]: \").strip().lower() or \"r\"\n",
        "\n",
        "# ========== STORAGE PATH ==========\n",
        "if dest == 1:\n",
        "    path = f\"/content/{folder}\"\n",
        "elif dest == 2:\n",
        "    from google.colab import drive\n",
        "    drive.mount('/content/drive')\n",
        "    path = f\"/content/drive/MyDrive/{folder}\"\n",
        "else:\n",
        "    path = folder\n",
        "os.makedirs(path, exist_ok=True)\n",
        "print(f\"\\n✅ Saving images to: {path}\")\n",
        "print(f\"📡 Fetching {n} sky positions with SDSS Band '{band}'\")\n",
        "\n",
        "# ========== NORMALIZATION FUNCTION ==========\n",
        "def normalize_png(data, size):\n",
        "    norm = (data - data.min()) / np.ptp(data)\n",
        "    return Image.fromarray(np.uint8(255 * norm)).convert(\"L\").resize((size, size))\n",
        "\n",
        "# ========== MAIN DOWNLOAD LOOP ==========\n",
        "success = 0\n",
        "for i in tqdm(range(n), desc=\"Downloading\"):\n",
        "    ra = np.random.uniform(0, 360)\n",
        "    dec = np.random.uniform(-1, 1) * np.random.uniform(0, 90)\n",
        "    try:\n",
        "        coord = SkyCoord(ra=ra*u.deg, dec=dec*u.deg, frame=\"icrs\")\n",
        "        imgs = SDSS.get_images(coordinates=coord, band=band)\n",
        "        if not imgs:\n",
        "            continue\n",
        "        hdul = imgs[0]\n",
        "        data = hdul[0].data.astype(float)\n",
        "\n",
        "        if fmt in (2, 3):\n",
        "            fits_name = os.path.join(path, f\"gal_{i:04d}.fits\")\n",
        "            hdul.writeto(fits_name, overwrite=True)\n",
        "        if fmt in (1, 3):\n",
        "            png_name = os.path.join(path, f\"gal_{i:04d}.png\")\n",
        "            normalize_png(data, size).save(png_name)\n",
        "\n",
        "        del data, hdul\n",
        "        gc.collect()\n",
        "        success += 1\n",
        "    except Exception as e:\n",
        "        print(f\"⚠️ Error at RA={ra:.2f}, DEC={dec:.2f}: {e}\")\n",
        "\n",
        "print(f\"\\n✅ Done. Downloaded {success}/{n} images successfully.\")\n",
        "print(f\"📁 Stored at: {path}\")\n"
      ]
    }
  ],
  "metadata": {
    "colab": {
      "provenance": []
    },
    "kernelspec": {
      "display_name": "Python 3",
      "name": "python3"
    },
    "language_info": {
      "name": "python"
    }
  },
  "nbformat": 4,
  "nbformat_minor": 0
}
